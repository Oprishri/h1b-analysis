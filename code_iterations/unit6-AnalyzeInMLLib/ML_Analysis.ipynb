{
 "cells": [
  {
   "cell_type": "code",
   "execution_count": 13,
   "metadata": {
    "collapsed": false
   },
   "outputs": [],
   "source": [
    "import pandas as pd\n",
    "import numpy as np\n",
    "from sklearn.linear_model import LogisticRegression,LinearRegression\n",
    "from sklearn.metrics import accuracy_score,roc_auc_score,log_loss\n",
    "from sklearn.cross_validation import train_test_split"
   ]
  },
  {
   "cell_type": "code",
   "execution_count": 15,
   "metadata": {
    "collapsed": false
   },
   "outputs": [],
   "source": [
    "# inport data\n",
    "state = []\n",
    "for i in range(1,57):\n",
    "    state.append(\"state_\"+str(i))\n",
    "occupation = []\n",
    "for i in range(1,9):\n",
    "    occupation.append(\"occupation_\"+str(i))\n",
    "col = [\"case_status\",\"wage_rate\",\"decisiontime\",\"employtime\"]\n",
    "col.extend(state)\n",
    "col.extend(occupation)\n",
    "col.append(\"delete\")\n",
    "train_data = pd.read_csv(\"./VectorData.txt\",sep=\"\\t\",names=col).drop([\"delete\"],1)\n",
    "test_data = pd.read_csv(\"./VectorData.txt\",sep=\"\\t\",names=col).drop([\"delete\"],1)"
   ]
  },
  {
   "cell_type": "code",
   "execution_count": 16,
   "metadata": {
    "collapsed": true
   },
   "outputs": [],
   "source": [
    "#set label and vector\n",
    "X_train = train_data.drop(columns = \"case_status\")\n",
    "y_train = train_data[\"case_status\"]\n",
    "X_test = test_data.drop(columns = \"case_status\")\n",
    "y_test = test_data[\"case_status\"]"
   ]
  },
  {
   "cell_type": "code",
   "execution_count": 17,
   "metadata": {
    "collapsed": true
   },
   "outputs": [],
   "source": [
    "#randomly choose train data and test data\n",
    "train_X,test_X, train_y, test_y = train_test_split(X_train,\n",
    "                                                   y_train,\n",
    "                                                   test_size = 0.2,\n",
    "                                                   random_state = 0)\n",
    "\n"
   ]
  },
  {
   "cell_type": "code",
   "execution_count": 18,
   "metadata": {
    "collapsed": false
   },
   "outputs": [
    {
     "data": {
      "text/plain": [
       "LogisticRegression(C=1.0, class_weight=None, dual=False, fit_intercept=True,\n",
       "          intercept_scaling=1, max_iter=100, multi_class='ovr', n_jobs=1,\n",
       "          penalty='l2', random_state=None, solver='liblinear', tol=0.0001,\n",
       "          verbose=0, warm_start=False)"
      ]
     },
     "execution_count": 18,
     "metadata": {},
     "output_type": "execute_result"
    }
   ],
   "source": [
    "#logistic regression method training\n",
    "lr = LogisticRegression()\n",
    "lr.fit(train_X,train_y)"
   ]
  },
  {
   "cell_type": "code",
   "execution_count": 24,
   "metadata": {
    "collapsed": true
   },
   "outputs": [],
   "source": [
    "#test\n",
    "y_pred = lr.predict_proba(test_X)\n",
    "y_pred2 = lr.predict(test_X)"
   ]
  },
  {
   "cell_type": "code",
   "execution_count": 26,
   "metadata": {
    "collapsed": false
   },
   "outputs": [
    {
     "name": "stdout",
     "output_type": "stream",
     "text": [
      "('score:', 0.9896754119227777)\n",
      "('roc:', 0.6594653980655154)\n",
      "('log_loss:', 0.06658062660335869)\n"
     ]
    }
   ],
   "source": [
    "#accuracy evaluation\n",
    "test_y = np.array(test_y)\n",
    "for i in range(len(test_y)):\n",
    "    if test_y[i]==2:\n",
    "        test_y[i] = 1\n",
    "\n",
    "print (\"score:\", accuracy_score(test_y,y_pred2))\n",
    "print (\"roc:\",roc_auc_score(test_y,y_pred[:,1]))\n",
    "print (\"log_loss:\",log_loss(test_y,y_pred[:,1]))"
   ]
  },
  {
   "cell_type": "code",
   "execution_count": 21,
   "metadata": {
    "collapsed": true
   },
   "outputs": [],
   "source": [
    "x = pd.DataFrame(y_train)"
   ]
  },
  {
   "cell_type": "code",
   "execution_count": null,
   "metadata": {
    "collapsed": true
   },
   "outputs": [],
   "source": []
  }
 ],
 "metadata": {
  "kernelspec": {
   "display_name": "Python 2",
   "language": "python",
   "name": "python2"
  },
  "language_info": {
   "codemirror_mode": {
    "name": "ipython",
    "version": 2
   },
   "file_extension": ".py",
   "mimetype": "text/x-python",
   "name": "python",
   "nbconvert_exporter": "python",
   "pygments_lexer": "ipython2",
   "version": "2.7.6"
  }
 },
 "nbformat": 4,
 "nbformat_minor": 2
}
